{
 "cells": [
  {
   "cell_type": "code",
   "execution_count": 1,
   "id": "6323b4c4",
   "metadata": {},
   "outputs": [],
   "source": [
    "import os\n",
    "import numpy as np\n",
    "import pandas as pd\n",
    "import matplotlib.pyplot as plt\n",
    "import scanpy as sc\n",
    "\n",
    "sc.settings.verbosity = 0"
   ]
  },
  {
   "cell_type": "code",
   "execution_count": 5,
   "id": "ffae2228",
   "metadata": {},
   "outputs": [
    {
     "name": "stdout",
     "output_type": "stream",
     "text": [
      "The autoreload extension is already loaded. To reload it, use:\n",
      "  %reload_ext autoreload\n"
     ]
    }
   ],
   "source": [
    "import GenKI as gk\n",
    "from GenKI.preprocesing import build_adata\n",
    "from GenKI.dataLoader import DataLoader\n",
    "from GenKI.train import VGAE_trainer\n",
    "from GenKI import utils\n",
    "\n",
    "%load_ext autoreload\n",
    "%autoreload 2"
   ]
  },
  {
   "cell_type": "code",
   "execution_count": 6,
   "id": "2b15fb16",
   "metadata": {},
   "outputs": [
    {
     "ename": "ValueError",
     "evalue": "incorrect file path given to counts",
     "output_type": "error",
     "traceback": [
      "\u001b[0;31m---------------------------------------------------------------------------\u001b[0m",
      "\u001b[0;31mValueError\u001b[0m                                Traceback (most recent call last)",
      "Cell \u001b[0;32mIn[6], line 3\u001b[0m\n\u001b[1;32m      1\u001b[0m \u001b[38;5;66;03m# subset data as an example\u001b[39;00m\n\u001b[0;32m----> 3\u001b[0m adata \u001b[38;5;241m=\u001b[39m \u001b[43mbuild_adata\u001b[49m\u001b[43m(\u001b[49m\u001b[38;5;124;43m\"\u001b[39;49m\u001b[38;5;124;43mdata/microglial_seurat_WT.h5ad\u001b[39;49m\u001b[38;5;124;43m\"\u001b[39;49m\u001b[43m)\u001b[49m\n\u001b[1;32m      4\u001b[0m adata \u001b[38;5;241m=\u001b[39m adata[:\u001b[38;5;241m100\u001b[39m, :\u001b[38;5;241m300\u001b[39m]\u001b[38;5;241m.\u001b[39mcopy()\n\u001b[1;32m      5\u001b[0m adata\n",
      "File \u001b[0;32m~/thesis/ssh/GenKI/GenKI/preprocesing.py:94\u001b[0m, in \u001b[0;36mbuild_adata\u001b[0;34m(adata, meta_gene_path, meta_cell_path, meta_cell_cols, sep, header, log_normalize, scale_data, as_sparse, uppercase, **kwargs)\u001b[0m\n\u001b[1;32m     79\u001b[0m \u001b[38;5;250m\u001b[39m\u001b[38;5;124;03m\"\"\"Load counts, metadata of genes and cells to build an AnnData input for scTenifoldXct.\u001b[39;00m\n\u001b[1;32m     80\u001b[0m \u001b[38;5;124;03mArgs:\u001b[39;00m\n\u001b[1;32m     81\u001b[0m \u001b[38;5;124;03m    adata (str): Path to counts or adata.\u001b[39;00m\n\u001b[0;32m   (...)\u001b[0m\n\u001b[1;32m     91\u001b[0m \u001b[38;5;124;03m    AnnData\u001b[39;00m\n\u001b[1;32m     92\u001b[0m \u001b[38;5;124;03m\"\"\"\u001b[39;00m\n\u001b[1;32m     93\u001b[0m \u001b[38;5;28;01mif\u001b[39;00m \u001b[38;5;129;01mnot\u001b[39;00m \u001b[38;5;28misinstance\u001b[39m(adata, AnnData):\n\u001b[0;32m---> 94\u001b[0m     adata \u001b[38;5;241m=\u001b[39m \u001b[43m_read_counts\u001b[49m\u001b[43m(\u001b[49m\u001b[43madata\u001b[49m\u001b[43m,\u001b[49m\u001b[43m \u001b[49m\u001b[38;5;241;43m*\u001b[39;49m\u001b[38;5;241;43m*\u001b[39;49m\u001b[43mkwargs\u001b[49m\u001b[43m)\u001b[49m\n\u001b[1;32m     96\u001b[0m \u001b[38;5;28;01mif\u001b[39;00m meta_gene_path \u001b[38;5;129;01mis\u001b[39;00m \u001b[38;5;129;01mnot\u001b[39;00m \u001b[38;5;28;01mNone\u001b[39;00m \u001b[38;5;129;01mand\u001b[39;00m Path(meta_gene_path)\u001b[38;5;241m.\u001b[39mis_file():\n\u001b[1;32m     97\u001b[0m     \u001b[38;5;28;01mtry\u001b[39;00m:\n\u001b[1;32m     98\u001b[0m         \u001b[38;5;66;03m# print(\"add metadata for genes\")\u001b[39;00m\n",
      "File \u001b[0;32m~/thesis/ssh/GenKI/GenKI/preprocesing.py:61\u001b[0m, in \u001b[0;36m_read_counts\u001b[0;34m(counts_path, transpose, **kwargs)\u001b[0m\n\u001b[1;32m     59\u001b[0m             adata \u001b[38;5;241m=\u001b[39m read_fun(counts_path, \u001b[38;5;241m*\u001b[39m\u001b[38;5;241m*\u001b[39mkwargs)\n\u001b[1;32m     60\u001b[0m \u001b[38;5;28;01melse\u001b[39;00m:\n\u001b[0;32m---> 61\u001b[0m     \u001b[38;5;28;01mraise\u001b[39;00m \u001b[38;5;167;01mValueError\u001b[39;00m(\u001b[38;5;124m\"\u001b[39m\u001b[38;5;124mincorrect file path given to counts\u001b[39m\u001b[38;5;124m\"\u001b[39m)\n\u001b[1;32m     62\u001b[0m \u001b[38;5;28;01mreturn\u001b[39;00m adata\n",
      "\u001b[0;31mValueError\u001b[0m: incorrect file path given to counts"
     ]
    }
   ],
   "source": [
    "# subset data as an example\n",
    "\n",
    "adata = build_adata(\"data/microglial_seurat_WT.h5ad\")\n",
    "adata = adata[:100, :300].copy()\n",
    "adata"
   ]
  },
  {
   "cell_type": "code",
   "execution_count": 4,
   "id": "1e37d540",
   "metadata": {
    "scrolled": true
   },
   "outputs": [
    {
     "name": "stdout",
     "output_type": "stream",
     "text": [
      "use all the cells (100) in adata\n",
      "build GRN\n",
      "ray init, using 8 CPUs\n",
      "execution time of making pcNet: 6.26 s\n",
      "GRN has been built and saved in \"GRNs\\pcNet_example.npz\"\n",
      "init completed\n",
      "\n"
     ]
    }
   ],
   "source": [
    "# load data\n",
    "\n",
    "data_wrapper =  DataLoader(\n",
    "                adata, # adata object\n",
    "                target_gene = [\"TUBG1\"], # KO gene name\n",
    "                target_cell = None, # obsname for cell type, if none use all\n",
    "                obs_label = \"ident\", # colname for genes\n",
    "                GRN_file_dir = \"GRNs\", # folder name for GRNs\n",
    "                rebuild_GRN = True, # whether build GRN by pcNet\n",
    "                pcNet_name = \"pcNet_example\", # GRN file name\n",
    "                verbose = True, # whether verbose\n",
    "                n_cpus = 8, # multiprocessing\n",
    "                )\n",
    "\n",
    "data_wt = data_wrapper.load_data()\n",
    "data_ko = data_wrapper.load_kodata()"
   ]
  },
  {
   "cell_type": "code",
   "execution_count": 5,
   "id": "7862c768",
   "metadata": {},
   "outputs": [],
   "source": [
    "# init trainer\n",
    "\n",
    "hyperparams = {\"epochs\": 100, \n",
    "               \"lr\": 7e-4, \n",
    "               \"beta\": 1e-4, \n",
    "               \"seed\": 8096}\n",
    "log_dir=None \n",
    "\n",
    "sensei = VGAE_trainer(data_wt, \n",
    "                     epochs=hyperparams[\"epochs\"], \n",
    "                     lr=hyperparams[\"lr\"], \n",
    "                     log_dir=log_dir, \n",
    "                     beta=hyperparams[\"beta\"],\n",
    "                     seed=hyperparams[\"seed\"],\n",
    "                     verbose=False,\n",
    "                     )"
   ]
  },
  {
   "cell_type": "code",
   "execution_count": 6,
   "id": "31bfb6a0",
   "metadata": {
    "scrolled": true
   },
   "outputs": [],
   "source": [
    "# %%timeit\n",
    "sensei.train()"
   ]
  },
  {
   "cell_type": "code",
   "execution_count": 7,
   "id": "e16a285e",
   "metadata": {},
   "outputs": [],
   "source": [
    "# sensei.save_model('model_example')"
   ]
  },
  {
   "cell_type": "code",
   "execution_count": 8,
   "id": "e055e8f3",
   "metadata": {
    "scrolled": true
   },
   "outputs": [
    {
     "name": "stdout",
     "output_type": "stream",
     "text": [
      "(300,)\n"
     ]
    }
   ],
   "source": [
    "# get distance between wt and ko\n",
    "\n",
    "z_mu_wt, z_std_wt = sensei.get_latent_vars(data_wt)\n",
    "z_mu_ko, z_std_ko = sensei.get_latent_vars(data_ko)\n",
    "dis = gk.utils.get_distance(z_mu_ko, z_std_ko, z_mu_wt, z_std_wt, by=\"KL\")\n",
    "print(dis.shape)"
   ]
  },
  {
   "cell_type": "code",
   "execution_count": 9,
   "id": "78e852b7",
   "metadata": {},
   "outputs": [
    {
     "data": {
      "text/html": [
       "<div>\n",
       "<style scoped>\n",
       "    .dataframe tbody tr th:only-of-type {\n",
       "        vertical-align: middle;\n",
       "    }\n",
       "\n",
       "    .dataframe tbody tr th {\n",
       "        vertical-align: top;\n",
       "    }\n",
       "\n",
       "    .dataframe thead th {\n",
       "        text-align: right;\n",
       "    }\n",
       "</style>\n",
       "<table border=\"1\" class=\"dataframe\">\n",
       "  <thead>\n",
       "    <tr style=\"text-align: right;\">\n",
       "      <th></th>\n",
       "      <th>dis</th>\n",
       "      <th>rank</th>\n",
       "    </tr>\n",
       "  </thead>\n",
       "  <tbody>\n",
       "    <tr>\n",
       "      <th>TUBG1</th>\n",
       "      <td>2.565490</td>\n",
       "      <td>1</td>\n",
       "    </tr>\n",
       "    <tr>\n",
       "      <th>TYROBP</th>\n",
       "      <td>0.001753</td>\n",
       "      <td>2</td>\n",
       "    </tr>\n",
       "    <tr>\n",
       "      <th>LST1</th>\n",
       "      <td>0.001628</td>\n",
       "      <td>3</td>\n",
       "    </tr>\n",
       "    <tr>\n",
       "      <th>CYBA</th>\n",
       "      <td>0.001517</td>\n",
       "      <td>4</td>\n",
       "    </tr>\n",
       "    <tr>\n",
       "      <th>LAT2</th>\n",
       "      <td>0.001438</td>\n",
       "      <td>5</td>\n",
       "    </tr>\n",
       "  </tbody>\n",
       "</table>\n",
       "</div>"
      ],
      "text/plain": [
       "             dis  rank\n",
       "TUBG1   2.565490     1\n",
       "TYROBP  0.001753     2\n",
       "LST1    0.001628     3\n",
       "CYBA    0.001517     4\n",
       "LAT2    0.001438     5"
      ]
     },
     "execution_count": 9,
     "metadata": {},
     "output_type": "execute_result"
    }
   ],
   "source": [
    "# raw ranked gene list\n",
    "\n",
    "res_raw = utils.get_generank(data_wt, dis, rank=True)\n",
    "res_raw.head()"
   ]
  },
  {
   "cell_type": "code",
   "execution_count": 10,
   "id": "9ddf3b86",
   "metadata": {},
   "outputs": [
    {
     "name": "stderr",
     "output_type": "stream",
     "text": [
      "Permutating: 100%|██████████| 100/100 [00:03<00:00, 33.02it/s]\n"
     ]
    },
    {
     "data": {
      "text/html": [
       "<div>\n",
       "<style scoped>\n",
       "    .dataframe tbody tr th:only-of-type {\n",
       "        vertical-align: middle;\n",
       "    }\n",
       "\n",
       "    .dataframe tbody tr th {\n",
       "        vertical-align: top;\n",
       "    }\n",
       "\n",
       "    .dataframe thead th {\n",
       "        text-align: right;\n",
       "    }\n",
       "</style>\n",
       "<table border=\"1\" class=\"dataframe\">\n",
       "  <thead>\n",
       "    <tr style=\"text-align: right;\">\n",
       "      <th></th>\n",
       "      <th>dis</th>\n",
       "      <th>index</th>\n",
       "      <th>hit</th>\n",
       "      <th>rank</th>\n",
       "    </tr>\n",
       "  </thead>\n",
       "  <tbody>\n",
       "    <tr>\n",
       "      <th>TUBG1</th>\n",
       "      <td>2.56549</td>\n",
       "      <td>163</td>\n",
       "      <td>100</td>\n",
       "      <td>1</td>\n",
       "    </tr>\n",
       "  </tbody>\n",
       "</table>\n",
       "</div>"
      ],
      "text/plain": [
       "           dis  index  hit  rank\n",
       "TUBG1  2.56549    163  100     1"
      ]
     },
     "execution_count": 10,
     "metadata": {},
     "output_type": "execute_result"
    }
   ],
   "source": [
    "# if permutation test\n",
    "\n",
    "null = sensei.pmt(data_ko, n=100, by=\"KL\")\n",
    "res = utils.get_generank(data_wt, dis, null,)\n",
    "#                       save_significant_as = 'gene_list_example')\n",
    "res"
   ]
  },
  {
   "cell_type": "code",
   "execution_count": null,
   "id": "6a349662",
   "metadata": {},
   "outputs": [],
   "source": []
  }
 ],
 "metadata": {
  "kernelspec": {
   "display_name": "Python 3 (ipykernel)",
   "language": "python",
   "name": "python3"
  },
  "language_info": {
   "codemirror_mode": {
    "name": "ipython",
    "version": 3
   },
   "file_extension": ".py",
   "mimetype": "text/x-python",
   "name": "python",
   "nbconvert_exporter": "python",
   "pygments_lexer": "ipython3",
   "version": "3.10.14"
  }
 },
 "nbformat": 4,
 "nbformat_minor": 5
}
